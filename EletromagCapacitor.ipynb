{
 "cells": [
  {
   "cell_type": "markdown",
   "metadata": {},
   "source": [
    "# **Insper - Eletromagnetismo e Ondulatória** #\n",
    "\n",
    "\n",
    "**Modelagem Projeto Eletromag. (Parte 2 do Projeto)**"
   ]
  },
  {
   "cell_type": "code",
   "execution_count": 217,
   "metadata": {},
   "outputs": [],
   "source": [
    "#Vamos importar os módulos que precisamos\n",
    "from cmath import *\n",
    "from numpy import linalg\n",
    "import numpy as np\n",
    "from matplotlib import pyplot as plt\n",
    "from matplotlib import *"
   ]
  },
  {
   "cell_type": "code",
   "execution_count": 218,
   "metadata": {},
   "outputs": [],
   "source": [
    "R1 = 1\n",
    "R2 = 1\n",
    "L1 = 10e-3\n",
    "L2 = L1\n",
    "C1 = 100e-6\n",
    "C2 = C1\n",
    "K = 0.2\n",
    "M = (sqrt(L1*L2))*K"
   ]
  },
  {
   "cell_type": "code",
   "execution_count": 219,
   "metadata": {},
   "outputs": [],
   "source": [
    "f = 60*10**3\n",
    "W = 2*pi*f\n",
    "Ufonte = 110\n",
    "XL1 = 1j * W * L1\n",
    "XL2 = 1j * W * L2\n",
    "XM = 1j * W * M\n",
    "XC1 = 1/(1j * W * C1)\n",
    "XC2 = 1/(1j * W * C2)"
   ]
  },
  {
   "cell_type": "markdown",
   "metadata": {},
   "source": [
    "*Modelo Paralelo*"
   ]
  },
  {
   "cell_type": "code",
   "execution_count": 220,
   "metadata": {},
   "outputs": [],
   "source": [
    "\n",
    "def CalcularParalelo(Uf, Rc):\n",
    "    Z=np.array([[R1+XL1+XC1, -XM],[-XM, XL2+R2+(Rc*XC2/(Rc+XC2))]])\n",
    "    V=np.array([Uf,0])\n",
    "    i=np.dot(linalg.inv(Z),V)\n",
    "    return i[0], i[1]"
   ]
  },
  {
   "cell_type": "code",
   "execution_count": 221,
   "metadata": {},
   "outputs": [
    {
     "name": "stdout",
     "output_type": "stream",
     "text": [
      "No modelo em paralelo, com resistor na saída de 6.00 Ω:\n",
      "i1 (eficaz) = 0.03 A\n",
      "i2 (eficaz) = 0.01 A\n",
      "V1 (eficaz): 110.00 V\n",
      "V2 (eficaz): 0.04 V\n",
      "Relação N1/N2: 1.00\n",
      "Relação i2/i1: 0.20\n",
      "Relação V1/V2: 3015.88\n"
     ]
    }
   ],
   "source": [
    "Rcarga = 6\n",
    "i1, i2 = CalcularParalelo(Ufonte, Rcarga)\n",
    "\n",
    "print('No modelo em paralelo, com resistor na saída de %.2f Ω:' %Rcarga)\n",
    "print('i1 (eficaz) = %.2f A' %np.abs(i1))\n",
    "print('i2 (eficaz) = %.2f A' %np.abs(i2))\n",
    "print('V1 (eficaz): %.2f V' %Ufonte)\n",
    "print('V2 (eficaz): %.2f V' %(np.abs(i2*Rcarga)))\n",
    "\n",
    "print('Relação N1/N2: %.2f' %(np.abs(sqrt(L1/L2))))\n",
    "print('Relação i2/i1: %.2f' %(np.abs(i2)/np.abs(i1)))\n",
    "print('Relação V1/V2: %.2f' %(np.abs(Ufonte)/np.abs(i2*Rcarga)))\n",
    "\n",
    "\n",
    "\n"
   ]
  },
  {
   "cell_type": "markdown",
   "metadata": {},
   "source": [
    "*Modelo em Série*"
   ]
  },
  {
   "cell_type": "code",
   "execution_count": 222,
   "metadata": {},
   "outputs": [],
   "source": [
    "def CalcularEmSerie(Uf, Rc):\n",
    "    Z=np.array([[R1+XL1+XC1, -XM],[-XM, XL2+R2+XC2+Rc]])\n",
    "    V=np.array([Uf,0])\n",
    "    i=np.dot(linalg.inv(Z),V)\n",
    "    return i[0], i[1]"
   ]
  },
  {
   "cell_type": "code",
   "execution_count": 223,
   "metadata": {},
   "outputs": [
    {
     "name": "stdout",
     "output_type": "stream",
     "text": [
      "No modelo em série, com resistor na saída de 5.00 Ω:\n",
      "i1 (eficaz) = 0.03 A\n",
      "i2 (eficaz) = 0.01 A\n",
      "V1 (eficaz): 110.00 V\n",
      "V2 (eficaz): 0.03 V\n",
      "Relação N1/N2: 1.00\n",
      "Relação i2/i1: 0.20\n",
      "Relação V1/V2: 3619.07\n"
     ]
    }
   ],
   "source": [
    "Rcarga = 5\n",
    "i1, i2 = CalcularEmSerie(Ufonte, Rcarga)\n",
    "\n",
    "print('No modelo em série, com resistor na saída de %.2f Ω:' %Rcarga)\n",
    "print('i1 (eficaz) = %.2f A' %np.abs(i1))\n",
    "print('i2 (eficaz) = %.2f A' %np.abs(i2))\n",
    "print('V1 (eficaz): %.2f V' %Ufonte)\n",
    "print('V2 (eficaz): %.2f V' %(np.abs(i2*Rcarga)))\n",
    "\n",
    "print('Relação N1/N2: %.2f' %(np.abs(sqrt(L1/L2))))\n",
    "print('Relação i2/i1: %.2f' %(np.abs(i2)/np.abs(i1)))\n",
    "print('Relação V1/V2: %.2f' %(np.abs(Ufonte)/np.abs(i2*Rcarga)))\n",
    "\n",
    "\n",
    "\n"
   ]
  },
  {
   "cell_type": "markdown",
   "metadata": {},
   "source": [
    "**Simulação do Circuito (Parte 3 do Projeto)**"
   ]
  },
  {
   "cell_type": "code",
   "execution_count": 224,
   "metadata": {},
   "outputs": [
    {
     "name": "stdout",
     "output_type": "stream",
     "text": [
      "Frequência de ressonância do primário: 159.15 Hz\n"
     ]
    }
   ],
   "source": [
    "def calcular_frequencia_ressonancia(L, C):\n",
    "    return 1 / (2 * pi * np.sqrt(L * C))\n",
    "\n",
    "fR = calcular_frequencia_ressonancia(L1, C1)\n",
    "print('Frequência de ressonância do primário: %.2f Hz' %fR)"
   ]
  },
  {
   "cell_type": "code",
   "execution_count": 225,
   "metadata": {},
   "outputs": [
    {
     "name": "stdout",
     "output_type": "stream",
     "text": [
      "Eficiência do sistema: 0.1613\n"
     ]
    }
   ],
   "source": [
    "Usaida = i2 * Rcarga\n",
    "\n",
    "def calcular_eficiencia(V1, I1, V2, I2):\n",
    "    i2 = I2\n",
    "    i1 = I1\n",
    "    P_saida = np.real(0.5 * (V2/sqrt(2)) * i2.conjugate())\n",
    "    P_entrada = np.real(0.5 * (V1/sqrt(2)) * i1.conjugate())\n",
    "    eficiencia = P_saida / P_entrada\n",
    "\n",
    "    return eficiencia\n",
    "\n",
    "Ef = calcular_eficiencia(Ufonte, i1, Usaida, i2)\n",
    "print('Eficiência do sistema: %.4f' %Ef)"
   ]
  },
  {
   "cell_type": "code",
   "execution_count": 226,
   "metadata": {},
   "outputs": [
    {
     "name": "stdout",
     "output_type": "stream",
     "text": [
      "Resistência pelicular: 0.160 Ω\n"
     ]
    }
   ],
   "source": [
    "def calcular_resistencia_pelicular(R_DC, f):\n",
    "    return R_DC + (R_DC / (100 * 1e3))*f\n",
    "\n",
    "R_DC = 0.1\n",
    "\n",
    "Rp = calcular_resistencia_pelicular(R_DC, f)\n",
    "print('Resistência pelicular: %.3f Ω' %Rp)"
   ]
  },
  {
   "cell_type": "code",
   "execution_count": 231,
   "metadata": {},
   "outputs": [
    {
     "name": "stderr",
     "output_type": "stream",
     "text": [
      "C:\\Users\\aerac\\AppData\\Local\\Temp\\ipykernel_19100\\14539870.py:23: RuntimeWarning: divide by zero encountered in divide\n",
      "  XC1 = 1/(1j * W * C1)\n",
      "C:\\Users\\aerac\\AppData\\Local\\Temp\\ipykernel_19100\\14539870.py:23: RuntimeWarning: invalid value encountered in divide\n",
      "  XC1 = 1/(1j * W * C1)\n",
      "C:\\Users\\aerac\\AppData\\Local\\Temp\\ipykernel_19100\\14539870.py:24: RuntimeWarning: divide by zero encountered in divide\n",
      "  XC2 = 1/(1j * W * C2)\n",
      "C:\\Users\\aerac\\AppData\\Local\\Temp\\ipykernel_19100\\14539870.py:24: RuntimeWarning: invalid value encountered in divide\n",
      "  XC2 = 1/(1j * W * C2)\n",
      "C:\\Users\\aerac\\AppData\\Local\\Temp\\ipykernel_19100\\14539870.py:27: RuntimeWarning: invalid value encountered in multiply\n",
      "  Z=np.array([[R1+XL1+XC1, -XM],[-XM, XL2+R2+(Rc*XC2/(Rc+XC2))]])\n",
      "C:\\Users\\aerac\\AppData\\Local\\Temp\\ipykernel_19100\\14539870.py:27: RuntimeWarning: invalid value encountered in divide\n",
      "  Z=np.array([[R1+XL1+XC1, -XM],[-XM, XL2+R2+(Rc*XC2/(Rc+XC2))]])\n"
     ]
    },
    {
     "ename": "LinAlgError",
     "evalue": "Last 2 dimensions of the array must be square",
     "output_type": "error",
     "traceback": [
      "\u001b[1;31m---------------------------------------------------------------------------\u001b[0m",
      "\u001b[1;31mLinAlgError\u001b[0m                               Traceback (most recent call last)",
      "Cell \u001b[1;32mIn[231], line 49\u001b[0m\n\u001b[0;32m     46\u001b[0m     plt\u001b[38;5;241m.\u001b[39mgrid(\u001b[38;5;28;01mTrue\u001b[39;00m)\n\u001b[0;32m     47\u001b[0m     plt\u001b[38;5;241m.\u001b[39mshow()\n\u001b[1;32m---> 49\u001b[0m \u001b[43msimular_eficiencia\u001b[49m\u001b[43m(\u001b[49m\u001b[43mL1\u001b[49m\u001b[43m,\u001b[49m\u001b[43m \u001b[49m\u001b[43mC_values\u001b[49m\u001b[43m,\u001b[49m\u001b[43m \u001b[49m\u001b[43mR_DC\u001b[49m\u001b[43m,\u001b[49m\u001b[43m \u001b[49m\u001b[43mUfonte\u001b[49m\u001b[43m,\u001b[49m\u001b[43m \u001b[49m\u001b[43mi1\u001b[49m\u001b[43m,\u001b[49m\u001b[43m \u001b[49m\u001b[43mUsaida\u001b[49m\u001b[43m,\u001b[49m\u001b[43m \u001b[49m\u001b[43mi2\u001b[49m\u001b[43m)\u001b[49m\n",
      "Cell \u001b[1;32mIn[231], line 32\u001b[0m, in \u001b[0;36msimular_eficiencia\u001b[1;34m(L, C_values, R_DC, V1, I1, V2, I2)\u001b[0m\n\u001b[0;32m     29\u001b[0m     i\u001b[38;5;241m=\u001b[39mnp\u001b[38;5;241m.\u001b[39mdot(linalg\u001b[38;5;241m.\u001b[39minv(Z),V)\n\u001b[0;32m     30\u001b[0m     \u001b[38;5;28;01mreturn\u001b[39;00m i[\u001b[38;5;241m0\u001b[39m], i[\u001b[38;5;241m1\u001b[39m]\n\u001b[1;32m---> 32\u001b[0m I1_f, I2_f \u001b[38;5;241m=\u001b[39m \u001b[43mCalcularParalelo\u001b[49m\u001b[43m(\u001b[49m\u001b[43mUfonte\u001b[49m\u001b[43m,\u001b[49m\u001b[43m \u001b[49m\u001b[43mR_f\u001b[49m\u001b[43m)\u001b[49m\n\u001b[0;32m     33\u001b[0m V2_f \u001b[38;5;241m=\u001b[39m I2_f \u001b[38;5;241m*\u001b[39m Rcarga\n\u001b[0;32m     35\u001b[0m eficiencia_f \u001b[38;5;241m=\u001b[39m calcular_eficiencia(V1, I1, V2_f, I2_f)\n",
      "Cell \u001b[1;32mIn[231], line 29\u001b[0m, in \u001b[0;36msimular_eficiencia.<locals>.CalcularParalelo\u001b[1;34m(Uf, Rc)\u001b[0m\n\u001b[0;32m     27\u001b[0m Z\u001b[38;5;241m=\u001b[39mnp\u001b[38;5;241m.\u001b[39marray([[R1\u001b[38;5;241m+\u001b[39mXL1\u001b[38;5;241m+\u001b[39mXC1, \u001b[38;5;241m-\u001b[39mXM],[\u001b[38;5;241m-\u001b[39mXM, XL2\u001b[38;5;241m+\u001b[39mR2\u001b[38;5;241m+\u001b[39m(Rc\u001b[38;5;241m*\u001b[39mXC2\u001b[38;5;241m/\u001b[39m(Rc\u001b[38;5;241m+\u001b[39mXC2))]])\n\u001b[0;32m     28\u001b[0m V\u001b[38;5;241m=\u001b[39mnp\u001b[38;5;241m.\u001b[39marray([Uf,\u001b[38;5;241m0\u001b[39m])\n\u001b[1;32m---> 29\u001b[0m i\u001b[38;5;241m=\u001b[39mnp\u001b[38;5;241m.\u001b[39mdot(\u001b[43mlinalg\u001b[49m\u001b[38;5;241;43m.\u001b[39;49m\u001b[43minv\u001b[49m\u001b[43m(\u001b[49m\u001b[43mZ\u001b[49m\u001b[43m)\u001b[49m,V)\n\u001b[0;32m     30\u001b[0m \u001b[38;5;28;01mreturn\u001b[39;00m i[\u001b[38;5;241m0\u001b[39m], i[\u001b[38;5;241m1\u001b[39m]\n",
      "File \u001b[1;32mc:\\Users\\aerac\\anaconda3\\lib\\site-packages\\numpy\\linalg\\linalg.py:556\u001b[0m, in \u001b[0;36minv\u001b[1;34m(a)\u001b[0m\n\u001b[0;32m    554\u001b[0m a, wrap \u001b[38;5;241m=\u001b[39m _makearray(a)\n\u001b[0;32m    555\u001b[0m _assert_stacked_2d(a)\n\u001b[1;32m--> 556\u001b[0m \u001b[43m_assert_stacked_square\u001b[49m\u001b[43m(\u001b[49m\u001b[43ma\u001b[49m\u001b[43m)\u001b[49m\n\u001b[0;32m    557\u001b[0m t, result_t \u001b[38;5;241m=\u001b[39m _commonType(a)\n\u001b[0;32m    559\u001b[0m signature \u001b[38;5;241m=\u001b[39m \u001b[38;5;124m'\u001b[39m\u001b[38;5;124mD->D\u001b[39m\u001b[38;5;124m'\u001b[39m \u001b[38;5;28;01mif\u001b[39;00m isComplexType(t) \u001b[38;5;28;01melse\u001b[39;00m \u001b[38;5;124m'\u001b[39m\u001b[38;5;124md->d\u001b[39m\u001b[38;5;124m'\u001b[39m\n",
      "File \u001b[1;32mc:\\Users\\aerac\\anaconda3\\lib\\site-packages\\numpy\\linalg\\linalg.py:213\u001b[0m, in \u001b[0;36m_assert_stacked_square\u001b[1;34m(*arrays)\u001b[0m\n\u001b[0;32m    211\u001b[0m m, n \u001b[38;5;241m=\u001b[39m a\u001b[38;5;241m.\u001b[39mshape[\u001b[38;5;241m-\u001b[39m\u001b[38;5;241m2\u001b[39m:]\n\u001b[0;32m    212\u001b[0m \u001b[38;5;28;01mif\u001b[39;00m m \u001b[38;5;241m!=\u001b[39m n:\n\u001b[1;32m--> 213\u001b[0m     \u001b[38;5;28;01mraise\u001b[39;00m LinAlgError(\u001b[38;5;124m'\u001b[39m\u001b[38;5;124mLast 2 dimensions of the array must be square\u001b[39m\u001b[38;5;124m'\u001b[39m)\n",
      "\u001b[1;31mLinAlgError\u001b[0m: Last 2 dimensions of the array must be square"
     ]
    },
    {
     "data": {
      "text/plain": [
       "<Figure size 1000x600 with 0 Axes>"
      ]
     },
     "metadata": {},
     "output_type": "display_data"
    }
   ],
   "source": [
    "# Simulação para diferentes valores de C, em paralelo\n",
    "\n",
    "C_values = [1e-7, 1.5e-7, 4.7e-7, 1e-6, 4.7e-6]\n",
    "\n",
    "\n",
    "def simular_eficiencia(L, C_values, R_DC, V1, I1, V2, I2):\n",
    "    plt.figure(figsize=(10, 6))\n",
    "\n",
    "    for C in C_values:\n",
    "        eficiencia = []\n",
    "        tensao_saida = []\n",
    "        freq = [calcular_frequencia_ressonancia(L, C)]\n",
    "        freq_range = list(np.linspace(0, freq, 100))\n",
    "\n",
    "        for f in freq_range:\n",
    "            R_f = calcular_resistencia_pelicular(R_DC, f)\n",
    "            \n",
    "            # Redefinindo os parâmetros do circuito\n",
    "            W = 2 * pi * f\n",
    "            XL1 = 1j * W * L1\n",
    "            XL2 = 1j * W * L2\n",
    "            XM = 1j * W * M\n",
    "            XC1 = 1/(1j * W * C1)\n",
    "            XC2 = 1/(1j * W * C2)\n",
    "\n",
    "            def CalcularParalelo(Uf, Rc):\n",
    "                Z=np.array([[R1+XL1+XC1, -XM],[-XM, XL2+R2+(Rc*XC2/(Rc+XC2))]])\n",
    "                V=np.array([Uf,0])\n",
    "                i=np.dot(linalg.inv(Z),V)\n",
    "                return i[0], i[1]\n",
    "\n",
    "            I1_f, I2_f = CalcularParalelo(Ufonte, R_f)\n",
    "            V2_f = I2_f * Rcarga\n",
    "            \n",
    "            eficiencia_f = calcular_eficiencia(V1, I1, V2_f, I2_f)\n",
    "            eficiencia.append(eficiencia_f * 100)\n",
    "            tensao_saida.append(V2_f)\n",
    "\n",
    "        plt.plot([freq], eficiencia, label=f'C={C:.2e} F')\n",
    "        print(eficiencia)\n",
    "    \n",
    "    plt.title('Eficiência do WPT com diferentes valores de capacitância')\n",
    "    plt.xlabel('Frequência de ressonância (Hz)')\n",
    "    plt.ylabel('Eficiência (%)')\n",
    "    plt.legend()\n",
    "    plt.grid(True)\n",
    "    plt.show()\n",
    "\n",
    "simular_eficiencia(L1, C_values, R_DC, Ufonte, i1, Usaida, i2)"
   ]
  },
  {
   "cell_type": "code",
   "execution_count": null,
   "metadata": {},
   "outputs": [],
   "source": []
  }
 ],
 "metadata": {
  "kernelspec": {
   "display_name": "base",
   "language": "python",
   "name": "python3"
  },
  "language_info": {
   "codemirror_mode": {
    "name": "ipython",
    "version": 3
   },
   "file_extension": ".py",
   "mimetype": "text/x-python",
   "name": "python",
   "nbconvert_exporter": "python",
   "pygments_lexer": "ipython3",
   "version": "3.9.13"
  }
 },
 "nbformat": 4,
 "nbformat_minor": 2
}
