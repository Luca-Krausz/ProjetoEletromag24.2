{
 "cells": [
  {
   "cell_type": "markdown",
   "metadata": {},
   "source": [
    "**Simulação do Projeto - Parte II**\n",
    "\n",
    "Parte do projeto se dedicou-se a conseguir realizar WPT para uma lâmpada. Agora, será focado na parte de conseguir, além de realizar o WPT, conseguir levitar a lampada utilizando um eletroimã e um imã de Neudímeo.  "
   ]
  },
  {
   "cell_type": "code",
   "execution_count": 2,
   "metadata": {},
   "outputs": [],
   "source": [
    "# Importanto as bibliotecas necessárias\n",
    "from cmath import *\n",
    "import numpy as np\n",
    "import sympy as sp\n",
    "from numpy import linalg\n",
    "from numpy import cos, sin, pi, sqrt\n",
    "from matplotlib import pyplot as plt\n",
    "from matplotlib import *"
   ]
  },
  {
   "cell_type": "code",
   "execution_count": 8,
   "metadata": {},
   "outputs": [
    {
     "name": "stdout",
     "output_type": "stream",
     "text": [
      "B =  0.000109384301700561 T\n",
      "dBdt =  -0.00336567082155572 T/m\n",
      "Fg =  1.1772 N\n",
      "mz =  1.6875000000000002 A.m\n",
      "Força aplicada pelo campo magnético =  0.00567956951137529 N\n"
     ]
    }
   ],
   "source": [
    "# Com a Bobina atual espiras\n",
    "\n",
    "# Permeabilidade do ar (Vácuo)\n",
    "u0 = 4*pi*1e-7 # H/m\n",
    "\n",
    "# Calculando B para uma bobina de 34 espiras\n",
    "N = 34 # Número de espiras\n",
    "i1 = 0.4 # A\n",
    "r = 45e-3 # m (bubina de diametro 90 mm)\n",
    "z = sp.symbols('z') # m\n",
    "m = 0.120 # Kg ou 120 g - Considerando que a massa total é 120g\n",
    "\n",
    "# Calculando B produzido no eixo z\n",
    "B = (u0*N*i1*r**2)/(2*(r**2+z**2)**(3/2)) \n",
    "dBdt = sp.diff(B, z)\n",
    "dBdt = dBdt.subs(z, 0.03) # 0.03 = altura desejada para a lampada\n",
    "B = B.subs(z, 0.03)\n",
    "print(\"B = \", B, \"T\")\n",
    "print(\"dBdt = \", dBdt, \"T/m\")\n",
    "\n",
    "# Calculando a força magnética necessária\n",
    "\n",
    "Fg = m*9.81 # N\n",
    "print(\"Fg = \", Fg, \"N\")\n",
    "\n",
    "# Calculando o Momento Magnético do ímã de Neodímio \n",
    "# Dados do ímã\n",
    "h_ima = 0.005 # m\n",
    "D_ima = 0.02 # m\n",
    "Br = 13.5*1e3 # kGs - Densidade de Fluxo Magnético Residual para o Neodímio N45 em kiloGauss onde 1 kGs = 1e-4 T\n",
    "Br = Br*1e-4 # T\n",
    "\n",
    "# Calculando o 'Magnetismo' do ímã\n",
    "M_ima = Br/u0 # A.m\n",
    "\n",
    "# Calculando seu volume\n",
    "V_ima = pi*((D_ima/2)**2)*h_ima # m^3\n",
    "\n",
    "# Calculando o Momento Magnético do ímã\n",
    "mz = M_ima*V_ima # A.m\n",
    "print('mz = ', mz, 'A.m')\n",
    "\n",
    "# Calculando a força magnética que está agindo no ímã\n",
    "Fm = np.abs(mz*dBdt) # N\n",
    "\n",
    "print('Força aplicada pelo campo magnético = ', Fm, 'N')"
   ]
  },
  {
   "cell_type": "code",
   "execution_count": 19,
   "metadata": {},
   "outputs": [
    {
     "name": "stdout",
     "output_type": "stream",
     "text": [
      "B =  0.0178272362377307 T\n",
      "dBdt =  -0.471897429822283 T/m\n",
      "Fg =  1.1772 N\n",
      "mz =  3.7968750000000004 A.m\n",
      "Força aplicada pelo campo magnético =  1.79173555385648 N\n"
     ]
    }
   ],
   "source": [
    "# Bobina Ideal\n",
    "\n",
    "# Permeabilidade do ar (Vácuo)\n",
    "u0 = 4*pi*1e-7 # H/m\n",
    "\n",
    "# Calculando B para uma bobina de 200 espiras\n",
    "N = 750 # Número de espiras\n",
    "i1 = 3 # A\n",
    "r = 50e-3 # m (bubina de diametro 100 mm)\n",
    "z = sp.symbols('z') # m\n",
    "m = 0.120 # Kg ou 120 g - Considerando que a massa total é 120g\n",
    "\n",
    "# Calculando B produzido no eixo z\n",
    "B = (u0*N*i1*r**2)/(2*(r**2+z**2)**(3/2)) \n",
    "dBdt = sp.diff(B, z)\n",
    "dBdt = dBdt.subs(z, 0.03) # 0.03 = altura desejada para a lampada\n",
    "B = B.subs(z, 0.03)\n",
    "print(\"B = \", B, \"T\")\n",
    "print(\"dBdt = \", dBdt, \"T/m\")\n",
    "\n",
    "# Calculando a força magnética necessária\n",
    "\n",
    "Fg = m*9.81 # N\n",
    "print(\"Fg = \", Fg, \"N\")\n",
    "\n",
    "# Calculando o Momento Magnético do ímã de Neodímio \n",
    "# Dados do ímã\n",
    "h_ima = 0.005 # m\n",
    "D_ima = 0.03 # m\n",
    "Br = 13.5*1e3 # kGs - Densidade de Fluxo Magnético Residual para o Neodímio N45 em kiloGauss onde 1 kGs = 1e-4 T\n",
    "Br = Br*1e-4 # T\n",
    "\n",
    "# Calculando o 'Magnetismo' do ímã\n",
    "M_ima = Br/u0 # A.m\n",
    "\n",
    "# Calculando seu volume\n",
    "V_ima = pi*((D_ima/2)**2)*h_ima # m^3\n",
    "\n",
    "# Calculando o Momento Magnético do ímã\n",
    "mz = M_ima*V_ima # A.m\n",
    "print('mz = ', mz, 'A.m')\n",
    "\n",
    "# Calculando a força magnética que está agindo no ímã\n",
    "Fm = np.abs(mz*dBdt) # N\n",
    "\n",
    "print('Força aplicada pelo campo magnético = ', Fm, 'N')"
   ]
  }
 ],
 "metadata": {
  "kernelspec": {
   "display_name": "base",
   "language": "python",
   "name": "python3"
  },
  "language_info": {
   "codemirror_mode": {
    "name": "ipython",
    "version": 3
   },
   "file_extension": ".py",
   "mimetype": "text/x-python",
   "name": "python",
   "nbconvert_exporter": "python",
   "pygments_lexer": "ipython3",
   "version": "3.9.13"
  }
 },
 "nbformat": 4,
 "nbformat_minor": 2
}
